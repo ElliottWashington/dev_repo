{
 "cells": [
  {
   "cell_type": "code",
   "execution_count": 3,
   "metadata": {},
   "outputs": [],
   "source": [
    "import time\n",
    "from concurrent.futures import ThreadPoolExecutor, thread\n",
    "import concurrent.futures\n",
    "import pandas as pd\n",
    "from datetime import datetime, timedelta\n",
    "import os\n",
    "import smtplib\n",
    "from email.mime.multipart import MIMEMultipart\n",
    "from email.mime.base import MIMEBase\n",
    "from email import encoders\n",
    "import re\n",
    "import numpy as np\n",
    "import psycopg2\n",
    "import numpy as np\n",
    "from scipy.stats import norm\n",
    "import scipy.stats as stats\n",
    "from sqlalchemy import create_engine\n",
    "import zipfile\n",
    "from functools import wraps\n",
    "from typing import Any"
   ]
  },
  {
   "cell_type": "code",
   "execution_count": 4,
   "metadata": {},
   "outputs": [],
   "source": [
    "connection = psycopg2.connect(host=\"10.5.1.20\", database=\"marketdata\", user=\"elliott\", password=\"scalp\", port='5432')\n",
    "connection2 = psycopg2.connect(host=\"10.7.8.59\", database=\"theoretical\", user=\"scalp\", password=\"QAtr@de442\", port='5433')\n",
    "\n",
    "m_root = 'RBadmin'\n",
    "m_password = '$Calp123'\n",
    "m_host = '10.5.1.32'\n",
    "m_db = 'rbandits2'\n",
    "uri = f\"mysql+mysqldb://{m_root}:{m_password}@{m_host}/{m_db}\"\n",
    "mydb = create_engine(uri, connect_args={'ssl_mode': 'DISABLED'})\n",
    "mapping = {0: \"Vertical\",5: \"Straddle\", 6: \"Strangle\"}"
   ]
  },
  {
   "cell_type": "code",
   "execution_count": 5,
   "metadata": {},
   "outputs": [],
   "source": [
    "def timing_decorator(func):\n",
    "    @wraps(func)\n",
    "    def wrapper(*args, **kwargs):\n",
    "        start_time = time.perf_counter()\n",
    "        result = func(*args, **kwargs)\n",
    "        end_time = time.perf_counter()\n",
    "        print(f\"Elapsed time for {func.__name__}: {end_time - start_time} seconds\")\n",
    "        return result\n",
    "    return wrapper"
   ]
  },
  {
   "cell_type": "code",
   "execution_count": 6,
   "metadata": {},
   "outputs": [],
   "source": [
    "def convert_to_new_format(option):\n",
    "    if option is None:\n",
    "        return ''  # Return an empty string for NaN values\n",
    "\n",
    "    parts = option.split('_')  # Split the spread into individual options\n",
    "    new_parts = []\n",
    "    for part in parts:\n",
    "        # Identify the beginning of the date substring\n",
    "        date_start = None\n",
    "        for i in range(len(part) - 5):  # Subtract 5 to avoid running off the end of the string\n",
    "            if part[i:i+2].isdigit() and part[i+2:i+4].isdigit() and part[i+4:i+6].isdigit():\n",
    "                date_start = i\n",
    "                break\n",
    "        # If a date substring couldn't be found, treat the part as a non-option\n",
    "        if date_start is None:\n",
    "            new_parts.append(part)\n",
    "            continue\n",
    "        # Extract underlying, date, call/put, strike, and suffix\n",
    "        underlying = part[:date_start]\n",
    "        date = '20' + part[date_start:date_start+6]  # Convert YY to YYYY\n",
    "        cp = part[date_start+6]\n",
    "        strike_start = date_start + 7\n",
    "        strike_end = strike_start\n",
    "        for char in part[strike_start:]:\n",
    "            if char.isdigit() or char == '.':\n",
    "                strike_end += 1\n",
    "            else:\n",
    "                break\n",
    "        strike = part[strike_start:strike_end]\n",
    "        # Append decimal and trailing zeros if necessary\n",
    "        if '.' not in strike:\n",
    "            strike += '.00'\n",
    "        elif len(strike.split('.')[1]) == 1:\n",
    "            strike += '0'\n",
    "        suffix = part[strike_end:]\n",
    "        new_part = underlying + date + cp + strike + suffix\n",
    "        new_parts.append(new_part)\n",
    "    return '_'.join(new_parts) "
   ]
  },
  {
   "cell_type": "code",
   "execution_count": 7,
   "metadata": {},
   "outputs": [],
   "source": [
    "def load_and_preprocess_main_df(date):\n",
    "    file_path = f'/home/elliott/Development/files/spreads-{date}0915.csv'\n",
    "    \n",
    "    if not os.path.exists(file_path):\n",
    "        print(f\"File {file_path} does not exist.\")\n",
    "        return None\n",
    "\n",
    "    main_array = np.genfromtxt(file_path, delimiter=',', skip_header=1, dtype=None, encoding='utf-8')\n",
    "    \n",
    "    print(\"Shape of main_array:\", main_array.shape)\n",
    "\n",
    "    if len(main_array.shape) == 1:\n",
    "        print(\"Array is 1-dimensional. Something went wrong.\")\n",
    "        return None\n",
    "        \n",
    "    # Keep only the columns we're interested in\n",
    "    main_array = main_array[:, [0, 2, 3, 4, 5]]\n",
    "    \n",
    "    # Filter rows where both 'BBOBid' and 'BBOAsk' are zero\n",
    "    main_array = main_array[(main_array[:, 1] != '0') | (main_array[:, 2] != '0')]\n",
    "\n",
    "    # Add a new column for formatted symbols\n",
    "    formatted_symbols = np.array([convert_to_new_format(symbol) for symbol in main_array[:, 0]], dtype=object)[:, np.newaxis]\n",
    "    main_array = np.hstack([main_array, formatted_symbols])\n",
    "\n",
    "    return main_array"
   ]
  },
  {
   "cell_type": "code",
   "execution_count": 9,
   "metadata": {},
   "outputs": [
    {
     "ename": "IndexError",
     "evalue": "too many indices for array: array is 1-dimensional, but 2 were indexed",
     "output_type": "error",
     "traceback": [
      "\u001b[0;31m---------------------------------------------------------------------------\u001b[0m",
      "\u001b[0;31mIndexError\u001b[0m                                Traceback (most recent call last)",
      "Cell \u001b[0;32mIn[9], line 1\u001b[0m\n\u001b[0;32m----> 1\u001b[0m main_df \u001b[39m=\u001b[39m load_and_preprocess_main_df(\u001b[39m'\u001b[39;49m\u001b[39m20230914\u001b[39;49m\u001b[39m'\u001b[39;49m)\n",
      "Cell \u001b[0;32mIn[5], line 5\u001b[0m, in \u001b[0;36mtiming_decorator.<locals>.wrapper\u001b[0;34m(*args, **kwargs)\u001b[0m\n\u001b[1;32m      2\u001b[0m \u001b[39m@wraps\u001b[39m(func)\n\u001b[1;32m      3\u001b[0m \u001b[39mdef\u001b[39;00m \u001b[39mwrapper\u001b[39m(\u001b[39m*\u001b[39margs, \u001b[39m*\u001b[39m\u001b[39m*\u001b[39mkwargs):\n\u001b[1;32m      4\u001b[0m     start_time \u001b[39m=\u001b[39m time\u001b[39m.\u001b[39mperf_counter()\n\u001b[0;32m----> 5\u001b[0m     result \u001b[39m=\u001b[39m func(\u001b[39m*\u001b[39;49margs, \u001b[39m*\u001b[39;49m\u001b[39m*\u001b[39;49mkwargs)\n\u001b[1;32m      6\u001b[0m     end_time \u001b[39m=\u001b[39m time\u001b[39m.\u001b[39mperf_counter()\n\u001b[1;32m      7\u001b[0m     \u001b[39mprint\u001b[39m(\u001b[39mf\u001b[39m\u001b[39m\"\u001b[39m\u001b[39mElapsed time for \u001b[39m\u001b[39m{\u001b[39;00mfunc\u001b[39m.\u001b[39m\u001b[39m__name__\u001b[39m\u001b[39m}\u001b[39;00m\u001b[39m: \u001b[39m\u001b[39m{\u001b[39;00mend_time\u001b[39m \u001b[39m\u001b[39m-\u001b[39m\u001b[39m \u001b[39mstart_time\u001b[39m}\u001b[39;00m\u001b[39m seconds\u001b[39m\u001b[39m\"\u001b[39m)\n",
      "Cell \u001b[0;32mIn[7], line 7\u001b[0m, in \u001b[0;36mload_and_preprocess_main_df\u001b[0;34m(date)\u001b[0m\n\u001b[1;32m      4\u001b[0m main_array \u001b[39m=\u001b[39m np\u001b[39m.\u001b[39mgenfromtxt(\u001b[39mf\u001b[39m\u001b[39m'\u001b[39m\u001b[39m/home/elliott/Development/files/spreads-\u001b[39m\u001b[39m{\u001b[39;00mdate\u001b[39m}\u001b[39;00m\u001b[39m0915.csv\u001b[39m\u001b[39m'\u001b[39m, delimiter\u001b[39m=\u001b[39m\u001b[39m'\u001b[39m\u001b[39m,\u001b[39m\u001b[39m'\u001b[39m, skip_header\u001b[39m=\u001b[39m\u001b[39m1\u001b[39m, dtype\u001b[39m=\u001b[39m\u001b[39mNone\u001b[39;00m, encoding\u001b[39m=\u001b[39m\u001b[39m'\u001b[39m\u001b[39mutf-8\u001b[39m\u001b[39m'\u001b[39m)\n\u001b[1;32m      6\u001b[0m \u001b[39m# Keep only the columns we're interested in\u001b[39;00m\n\u001b[0;32m----> 7\u001b[0m main_array \u001b[39m=\u001b[39m main_array[:, [\u001b[39m0\u001b[39;49m, \u001b[39m2\u001b[39;49m, \u001b[39m3\u001b[39;49m, \u001b[39m4\u001b[39;49m, \u001b[39m5\u001b[39;49m]]\n\u001b[1;32m      9\u001b[0m \u001b[39m# Filter rows where both 'BBOBid' and 'BBOAsk' are zero\u001b[39;00m\n\u001b[1;32m     10\u001b[0m main_array \u001b[39m=\u001b[39m main_array[(main_array[:, \u001b[39m1\u001b[39m] \u001b[39m!=\u001b[39m \u001b[39m'\u001b[39m\u001b[39m0\u001b[39m\u001b[39m'\u001b[39m) \u001b[39m|\u001b[39m (main_array[:, \u001b[39m2\u001b[39m] \u001b[39m!=\u001b[39m \u001b[39m'\u001b[39m\u001b[39m0\u001b[39m\u001b[39m'\u001b[39m)]\n",
      "\u001b[0;31mIndexError\u001b[0m: too many indices for array: array is 1-dimensional, but 2 were indexed"
     ]
    }
   ],
   "source": [
    "main_df = load_and_preprocess_main_df('20230914')"
   ]
  },
  {
   "cell_type": "code",
   "execution_count": null,
   "metadata": {},
   "outputs": [],
   "source": []
  }
 ],
 "metadata": {
  "kernelspec": {
   "display_name": "Python 3",
   "language": "python",
   "name": "python3"
  },
  "language_info": {
   "codemirror_mode": {
    "name": "ipython",
    "version": 3
   },
   "file_extension": ".py",
   "mimetype": "text/x-python",
   "name": "python",
   "nbconvert_exporter": "python",
   "pygments_lexer": "ipython3",
   "version": "3.11.3"
  },
  "orig_nbformat": 4
 },
 "nbformat": 4,
 "nbformat_minor": 2
}
