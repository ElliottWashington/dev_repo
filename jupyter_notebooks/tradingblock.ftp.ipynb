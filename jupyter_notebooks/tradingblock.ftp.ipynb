{
 "cells": [
  {
   "cell_type": "code",
   "execution_count": null,
   "metadata": {},
   "outputs": [],
   "source": [
    "from ftplib import FTP\n",
    "\n",
    "def list_files_on_ftp(host, username, password, directory=''):\n",
    "    # Connect to the FTP server\n",
    "    ftp = FTP(host)\n",
    "    ftp.login(user=username, passwd=password)\n",
    "    \n",
    "    # If a directory is specified, change to that directory\n",
    "    if directory:\n",
    "        ftp.cwd(directory)\n",
    "    \n",
    "    # List files in the current directory\n",
    "    files = ftp.nlst()\n",
    "    \n",
    "    # Close the connection\n",
    "    ftp.quit()\n",
    "    \n",
    "    # Return the list of files\n",
    "    return files\n",
    "\n",
    "# Sample usage\n",
    "host = 'ftp.tradingblock.com'\n",
    "username = 'tbftpuser02'\n",
    "password = 'Tr@d1ngBfTp85296'\n",
    "remote_filepath = f'/ftp/tbftpuser02/penny_pilot/penny_pilot_{date}.txt'\n",
    "local_filepath = 'penny_pilot_{date}.txt'\n",
    "\n",
    "files = list_files_on_ftp(host, username, password, directory)\n",
    "for file in files:\n",
    "    print(file)\n"
   ]
  },
  {
   "cell_type": "code",
   "execution_count": 40,
   "metadata": {},
   "outputs": [
    {
     "name": "stdout",
     "output_type": "stream",
     "text": [
      "230 Login successful.\n"
     ]
    },
    {
     "ename": "error_perm",
     "evalue": "522 SSL connection failed: session reuse required",
     "output_type": "error",
     "traceback": [
      "\u001b[0;31m---------------------------------------------------------------------------\u001b[0m",
      "\u001b[0;31merror_perm\u001b[0m                                Traceback (most recent call last)",
      "Cell \u001b[0;32mIn[40], line 10\u001b[0m\n\u001b[1;32m      7\u001b[0m \u001b[39mprint\u001b[39m(ftp\u001b[39m.\u001b[39mlogin(user\u001b[39m=\u001b[39m\u001b[39m'\u001b[39m\u001b[39mtbftpuser02\u001b[39m\u001b[39m'\u001b[39m, passwd\u001b[39m=\u001b[39m\u001b[39m'\u001b[39m\u001b[39mTr@d1ngBfTp85296\u001b[39m\u001b[39m'\u001b[39m))\n\u001b[1;32m      9\u001b[0m file_data \u001b[39m=\u001b[39m []\n\u001b[0;32m---> 10\u001b[0m ftp\u001b[39m.\u001b[39;49mretrbinary(\u001b[39m'\u001b[39;49m\u001b[39mRETR \u001b[39;49m\u001b[39m'\u001b[39;49m \u001b[39m+\u001b[39;49m remote_filepath, file_data\u001b[39m.\u001b[39;49mappend)\n\u001b[1;32m     12\u001b[0m ftp\u001b[39m.\u001b[39mquit()\n",
      "File \u001b[0;32m/usr/local/lib/python3.12/ftplib.py:445\u001b[0m, in \u001b[0;36mFTP.retrbinary\u001b[0;34m(self, cmd, callback, blocksize, rest)\u001b[0m\n\u001b[1;32m    443\u001b[0m     \u001b[39mif\u001b[39;00m _SSLSocket \u001b[39mis\u001b[39;00m \u001b[39mnot\u001b[39;00m \u001b[39mNone\u001b[39;00m \u001b[39mand\u001b[39;00m \u001b[39misinstance\u001b[39m(conn, _SSLSocket):\n\u001b[1;32m    444\u001b[0m         conn\u001b[39m.\u001b[39munwrap()\n\u001b[0;32m--> 445\u001b[0m \u001b[39mreturn\u001b[39;00m \u001b[39mself\u001b[39;49m\u001b[39m.\u001b[39;49mvoidresp()\n",
      "File \u001b[0;32m/usr/local/lib/python3.12/ftplib.py:259\u001b[0m, in \u001b[0;36mFTP.voidresp\u001b[0;34m(self)\u001b[0m\n\u001b[1;32m    257\u001b[0m \u001b[39mdef\u001b[39;00m \u001b[39mvoidresp\u001b[39m(\u001b[39mself\u001b[39m):\n\u001b[1;32m    258\u001b[0m \u001b[39m    \u001b[39m\u001b[39m\"\"\"Expect a response beginning with '2'.\"\"\"\u001b[39;00m\n\u001b[0;32m--> 259\u001b[0m     resp \u001b[39m=\u001b[39m \u001b[39mself\u001b[39;49m\u001b[39m.\u001b[39;49mgetresp()\n\u001b[1;32m    260\u001b[0m     \u001b[39mif\u001b[39;00m resp[:\u001b[39m1\u001b[39m] \u001b[39m!=\u001b[39m \u001b[39m'\u001b[39m\u001b[39m2\u001b[39m\u001b[39m'\u001b[39m:\n\u001b[1;32m    261\u001b[0m         \u001b[39mraise\u001b[39;00m error_reply(resp)\n",
      "File \u001b[0;32m/usr/local/lib/python3.12/ftplib.py:254\u001b[0m, in \u001b[0;36mFTP.getresp\u001b[0;34m(self)\u001b[0m\n\u001b[1;32m    252\u001b[0m     \u001b[39mraise\u001b[39;00m error_temp(resp)\n\u001b[1;32m    253\u001b[0m \u001b[39mif\u001b[39;00m c \u001b[39m==\u001b[39m \u001b[39m'\u001b[39m\u001b[39m5\u001b[39m\u001b[39m'\u001b[39m:\n\u001b[0;32m--> 254\u001b[0m     \u001b[39mraise\u001b[39;00m error_perm(resp)\n\u001b[1;32m    255\u001b[0m \u001b[39mraise\u001b[39;00m error_proto(resp)\n",
      "\u001b[0;31merror_perm\u001b[0m: 522 SSL connection failed: session reuse required"
     ]
    }
   ],
   "source": [
    "from ftplib import FTP_TLS\n",
    "\n",
    "ftp = FTP_TLS()\n",
    "ftp.connect('ftp.tradingblock.com', 21, 100)\n",
    "ftp.auth()    # This method is specific to FTP_TLS\n",
    "ftp.prot_p()  # Set up secure data connection\n",
    "print(ftp.login(user='tbftpuser02', passwd='Tr@d1ngBfTp85296'))\n",
    "\n",
    "file_data = []\n",
    "ftp.retrbinary('RETR ' + remote_filepath, file_data.append)\n",
    "\n",
    "ftp.quit()"
   ]
  },
  {
   "cell_type": "code",
   "execution_count": null,
   "metadata": {},
   "outputs": [],
   "source": []
  }
 ],
 "metadata": {
  "kernelspec": {
   "display_name": "Python 3",
   "language": "python",
   "name": "python3"
  },
  "language_info": {
   "codemirror_mode": {
    "name": "ipython",
    "version": 3
   },
   "file_extension": ".py",
   "mimetype": "text/x-python",
   "name": "python",
   "nbconvert_exporter": "python",
   "pygments_lexer": "ipython3",
   "version": "3.12.0a1"
  },
  "orig_nbformat": 4
 },
 "nbformat": 4,
 "nbformat_minor": 2
}
