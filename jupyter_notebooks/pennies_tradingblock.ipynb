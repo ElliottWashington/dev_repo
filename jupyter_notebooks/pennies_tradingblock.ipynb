{
 "cells": [
  {
   "cell_type": "code",
   "execution_count": 23,
   "metadata": {},
   "outputs": [
    {
     "name": "stdout",
     "output_type": "stream",
     "text": [
      "230 Login successful.\n"
     ]
    }
   ],
   "source": [
    "import pandas as pd\n",
    "import argparse\n",
    "from ftplib import FTP_TLS\n",
    "import ftplib\n",
    "import ssl\n",
    "\n",
    "class SmartFTP(FTP_TLS):\n",
    "        def makepasv(self):\n",
    "            invalidhost, port = super(SmartFTP, self).makepasv()\n",
    "            return self.host, port\n",
    "\n",
    "        def ntransfercmd(self, cmd, rest=None):\n",
    "            conn, size = ftplib.FTP.ntransfercmd(self, cmd, rest)\n",
    "            if self._prot_p:\n",
    "                conn = self.context.wrap_socket(conn,\n",
    "                                                server_hostname=self.host,\n",
    "                                                session=self.sock.session)  # this is the fix\n",
    "            return conn, size\n",
    "\n",
    "def download_from_ftp(ftp, filename, date):\n",
    "    locations = f'/home/elliott/Development/files/penny_pilot_{date}.txt'\n",
    "    ftp.retrbinary(\"RETR \" + filename, open(locations,\"wb\").write, 1024)\n",
    "\n",
    "def get_file(date):\n",
    "    filelist = []\n",
    "    ftp = SmartFTP()\n",
    "    ftp.ssl_version = ssl.PROTOCOL_SSLv23\n",
    "    ftp.connect('ftp.tradingblock.com', 21, 100)\n",
    "    ftp.auth()\n",
    "    ftp.prot_p()\n",
    "    print(ftp.login(user='tbftpuser02', passwd='Tr@d1ngBfTp85296'))\n",
    "    ftp.cwd(\"/penny_pilot/\")\n",
    "    ftp.dir(filelist.append)\n",
    "    filenames = [line.split()[-1] for line in filelist]\n",
    "    file = f'penny_pilot_{date}.txt'\n",
    "    if file in filenames:\n",
    "        download_from_ftp(ftp, file, date)\n",
    "        ftp.quit()\n",
    "        return True  # File was found and downloaded\n",
    "    else:\n",
    "        print(f\"The file {file} does not exist in the FTP directory.\")\n",
    "        ftp.quit()\n",
    "        return False  # File was not found\n",
    "\n",
    "def format_file(date):\n",
    "    df = pd.read_csv(f'/home/elliott/Development/files/penny_pilot_{date}.txt', delimiter='\\t')  # assuming it's comma-separated\n",
    "    # Filter the DataFrame\n",
    "    filtered_df = df[df['Type'] != 'Non-Penny']\n",
    "\n",
    "    # Extract 'Symbol' column and convert it into a list\n",
    "    penny_list = filtered_df['Symbol'].tolist()\n",
    "    df_penny = pd.DataFrame(penny_list, columns=['Symbol'])\n",
    "    df_penny.to_csv(\"/home/elliott/Development/files/pennies.cfg\", index=False)\n",
    "\n",
    "date = '2023-09-15'\n",
    "file_downloaded = get_file(date)  # Will return True if file is downloaded, False otherwise\n",
    "\n",
    "if file_downloaded:\n",
    "    format_file(date)\n",
    "else:\n",
    "    print(\"Exiting program as the required file was not found.\")\n"
   ]
  },
  {
   "cell_type": "code",
   "execution_count": null,
   "metadata": {},
   "outputs": [],
   "source": []
  }
 ],
 "metadata": {
  "kernelspec": {
   "display_name": "Python 3",
   "language": "python",
   "name": "python3"
  },
  "language_info": {
   "codemirror_mode": {
    "name": "ipython",
    "version": 3
   },
   "file_extension": ".py",
   "mimetype": "text/x-python",
   "name": "python",
   "nbconvert_exporter": "python",
   "pygments_lexer": "ipython3",
   "version": "3.11.3"
  },
  "orig_nbformat": 4
 },
 "nbformat": 4,
 "nbformat_minor": 2
}
