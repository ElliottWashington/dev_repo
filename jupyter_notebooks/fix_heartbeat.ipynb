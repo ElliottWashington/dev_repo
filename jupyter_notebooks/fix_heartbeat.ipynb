{
 "cells": [
  {
   "cell_type": "code",
   "execution_count": 2,
   "metadata": {},
   "outputs": [],
   "source": [
    "dpcp_51_logs = [\n",
    "    '/home/elliott/Development/files/VOLANT_DROPCOPY-fix_20230622.log'\n",
    "    '/home/elliott/Development/files/INET_DROPCOPY-fix_20230622.log'\n",
    "    '/home/elliott/Development/files/DASH_DROPCOPY-fix_20230622.log'\n",
    "]\n",
    "\n",
    "fix_51_logs = [\n",
    "   '/home/elliott/Development/files/VOLANT-1-fix_20230622.log'\n",
    "   '/home/elliott/Development/files/INET-1-fix_20230622.log'\n",
    "   '/home/elliott/Development/files/DASH-2-fix_20230622.log'\n",
    "]"
   ]
  },
  {
   "cell_type": "code",
   "execution_count": null,
   "metadata": {},
   "outputs": [],
   "source": [
    "import datetime\n",
    "import time\n",
    "import os\n",
    "\n",
    "dpcp_51_logs = [\n",
    "    #'/home/elliott/Development/files/VOLANT_DROPCOPY-fix_20230622.log',\n",
    "    #'/home/elliott/Development/files/INET_DROPCOPY-fix_20230622.log',\n",
    "    '/home/elliott/Development/files/DASH_DROPCOPY-fix_20230623.log'\n",
    "]\n",
    "\n",
    "def process_log_files(log_files):\n",
    "    for log_file in log_files:\n",
    "        if os.path.exists(log_file):\n",
    "            with open(log_file, 'r') as file:\n",
    "                lines = file.readlines()\n",
    "                for line in lines:\n",
    "                    tags = line.split('\u0001')\n",
    "                    message_type = [tag.split('=')[1] for tag in tags if tag.startswith('35=')]\n",
    "                    timestamp = [tag.split('=')[1] for tag in tags if tag.startswith('52=')]\n",
    "                    if message_type and timestamp and message_type[0] == '0':\n",
    "                        log_time = datetime.datetime.strptime(timestamp[0], '%Y%m%d-%H:%M:%S.%f')\n",
    "                        current_time = datetime.datetime.utcnow()\n",
    "                        time_difference = (current_time - log_time).total_seconds()\n",
    "                        if time_difference > 120:\n",
    "                            print(f\"Mismatched of {time_difference}: seconds\")\n",
    "\n",
    "process_log_files(dpcp_51_logs)\n"
   ]
  },
  {
   "cell_type": "code",
   "execution_count": null,
   "metadata": {},
   "outputs": [],
   "source": []
  }
 ],
 "metadata": {
  "kernelspec": {
   "display_name": "Python 3",
   "language": "python",
   "name": "python3"
  },
  "language_info": {
   "codemirror_mode": {
    "name": "ipython",
    "version": 3
   },
   "file_extension": ".py",
   "mimetype": "text/x-python",
   "name": "python",
   "nbconvert_exporter": "python",
   "pygments_lexer": "ipython3",
   "version": "3.10.6"
  },
  "orig_nbformat": 4
 },
 "nbformat": 4,
 "nbformat_minor": 2
}
